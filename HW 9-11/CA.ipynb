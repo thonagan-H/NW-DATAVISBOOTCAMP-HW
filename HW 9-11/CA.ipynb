{
 "cells": [
  {
   "cell_type": "code",
   "execution_count": 1,
   "metadata": {
    "collapsed": true
   },
   "outputs": [],
   "source": [
    "# Python SQL toolkit and Object Relational Mapper\n",
    "import sqlalchemy\n",
    "from sqlalchemy import create_engine, MetaData, inspect\n",
    "from sqlalchemy.ext.declarative import declarative_base\n",
    "from sqlalchemy import Column, Integer, String, Numeric, Text, Float, Date, func\n",
    "from sqlalchemy.ext.automap import automap_base as automap_base_HM\n",
    "from sqlalchemy.ext.automap import automap_base as automap_base_HS\n",
    "from sqlalchemy.orm import Session\n",
    "import pandas as pd\n",
    "import matplotlib.pyplot as plt\n",
    "import seaborn as sns\n",
    "import numpy as np\n"
   ]
  },
  {
   "cell_type": "code",
   "execution_count": 2,
   "metadata": {
    "collapsed": true
   },
   "outputs": [],
   "source": [
    "# Create an engine to database \n",
    "engine_HM = create_engine(\"sqlite:///cleaned_Hawaii_Measurements.sqlite\")\n",
    "engine_HS = create_engine(\"sqlite:///cleaned_Hawaii_Stations.sqlite\")"
   ]
  },
  {
   "cell_type": "code",
   "execution_count": 3,
   "metadata": {
    "collapsed": true
   },
   "outputs": [],
   "source": [
    "conn_HM = engine_HM.connect()\n",
    "conn_HS = engine_HS.connect()"
   ]
  },
  {
   "cell_type": "code",
   "execution_count": 4,
   "metadata": {
    "collapsed": true
   },
   "outputs": [],
   "source": [
    "#Reflecting into tables:\n",
    "#Objects inheriting the automap base class\n",
    "#If only one Base object calls the prepare method for two separate engines, then a SAWarning will be produced\n",
    "#So we are instantializing two separate objects to workaround it.\n",
    "Base_HM = automap_base_HM()\n",
    "Base_HS = automap_base_HS()\n",
    "\n",
    "\n",
    "#AutomapBase.prepare() method is called on the object to asking it to reflect the schema and produce mappings\n",
    "Base_HM.prepare(engine_HM,reflect=True) \n",
    "Base_HS.prepare(engine_HS,reflect=True) \n"
   ]
  },
  {
   "cell_type": "code",
   "execution_count": 5,
   "metadata": {
    "collapsed": true
   },
   "outputs": [],
   "source": [
    "Base_HS.classes.keys()\n",
    "HM = Base_HM.classes.Measurement\n",
    "HS = Base_HS.classes.Station"
   ]
  },
  {
   "cell_type": "code",
   "execution_count": 6,
   "metadata": {
    "collapsed": true
   },
   "outputs": [],
   "source": [
    "measurement = Base_HM.classes.keys()\n",
    "station = Base_HS.classes.keys()"
   ]
  },
  {
   "cell_type": "code",
   "execution_count": 7,
   "metadata": {
    "collapsed": true
   },
   "outputs": [],
   "source": [
    "session_HM = Session(engine_HM)\n",
    "session_HS = Session(engine_HS)"
   ]
  },
  {
   "cell_type": "code",
   "execution_count": 38,
   "metadata": {},
   "outputs": [],
   "source": [
    "engine_HM.execute('SELECT date,prcp FROM Measurement WHERE date >= \"2016-08-23\"').fetchall()"
   ]
  },
  {
   "cell_type": "code",
   "execution_count": 9,
   "metadata": {
    "collapsed": true,
    "scrolled": true
   },
   "outputs": [],
   "source": [
    "date_prcp = engine_HM.execute('SELECT date,prcp FROM Measurement WHERE date >= \"2016-08-23\"').fetchall()\n",
    "dates = []\n",
    "prcps = []\n",
    "for i in date_prcp:\n",
    "    dates.append(i[0])\n",
    "    prcps.append(i[1])"
   ]
  },
  {
   "cell_type": "code",
   "execution_count": 39,
   "metadata": {
    "scrolled": true
   },
   "outputs": [],
   "source": [
    "analysis_1 = pd.DataFrame({\"Dates\":dates,\"Prcp\":prcps})\n",
    "analysis_1[\"Prcp\"].fillna(value = 0)"
   ]
  },
  {
   "cell_type": "code",
   "execution_count": 11,
   "metadata": {
    "scrolled": true
   },
   "outputs": [
    {
     "data": {
      "image/png": "[encoded data removed]",
      "text/plain": [
       "<matplotlib.figure.Figure at 0x2baf01dca20>"
      ]
     },
     "metadata": {},
     "output_type": "display_data"
    }
   ],
   "source": [
    "x = analysis_1[\"Dates\"]\n",
    "y = analysis_1[\"Prcp\"]\n",
    "plt.plot(x,y)\n",
    "plt.show()"
   ]
  },
  {
   "cell_type": "code",
   "execution_count": 12,
   "metadata": {
    "collapsed": true
   },
   "outputs": [],
   "source": [
    "#Total number of stations\n",
    "stations_results = session_HS.query(func.count(HS.station)).all()\n",
    "stations_results\n",
    "\n",
    "#List of stations and obs in descending order\n",
    "desc_order = session_HM.query(HM.station, func.count(HM.tobs)).group_by(HM.station).order_by(func.count(HM.tobs).desc())\n",
    "#Station with greatest number of observations:\n",
    "desc_order.first()\n",
    "\n",
    "#Last 12 months of Obs Data:\n",
    "last_12_months = session_HM.query(HM.station, HM.tobs, HM.date).filter(HM.date >= '2016-08-23').all()\n",
    "# s = '2016-08-23'\n",
    "# e = '2016-09-23'\n",
    "# ths = session_HM.query(HM.station, HM.tobs, HM.date).filter(HM.date >= s).filter(HM.date <= e ).all()\n",
    "# ths"
   ]
  },
  {
   "cell_type": "code",
   "execution_count": 13,
   "metadata": {
    "scrolled": true
   },
   "outputs": [
    {
     "data": {
      "image/png": "[encoded data removed]",
      "text/plain": [
       "<matplotlib.figure.Figure at 0x2baf0ca4ba8>"
      ]
     },
     "metadata": {},
     "output_type": "display_data"
    }
   ],
   "source": [
    "#Past 12 months data\n",
    "df_last_12 = pd.DataFrame(last_12_months, columns=['Station', 'temp', 'date'])\n",
    "df_last_12.set_index('Station', inplace=True)\n",
    "hist_plot = df_last_12['temp'].hist(bins=12, figsize=(5,5))\n",
    "hist_plot.set_title('Temperature Observations', fontsize=20)\n",
    "hist_plot.set_ylabel('Frequency', fontsize=20)\n",
    "plt.show()"
   ]
  },
  {
   "cell_type": "code",
   "execution_count": 14,
   "metadata": {},
   "outputs": [
    {
     "name": "stdout",
     "output_type": "stream",
     "text": [
      "Enter the start date in the form of YYYY-MM-DD no later than 2017-08-23: 2016-08-23\n",
      "Enter the end date in the form of YYYY-MM-DD no later than 2017-08-23: 2017-08-23\n"
     ]
    },
    {
     "data": {
      "text/plain": [
       "[(87.0, 58.0, 74.59058295964125)]"
      ]
     },
     "execution_count": 14,
     "metadata": {},
     "output_type": "execute_result"
    }
   ],
   "source": [
    "def calc_temps():\n",
    "    start_date = input(\"Enter the start date in the form of YYYY-MM-DD no later than 2017-08-23: \")\n",
    "    end_date = input(\"Enter the end date in the form of YYYY-MM-DD no later than 2017-08-23: \")\n",
    "    temp_range = session_HM.query(func.max(HM.tobs),func.min(HM.tobs),func.avg(HM.tobs))\\\n",
    "                .filter(HM.date >= start_date ).filter(HM.date <= end_date).all()\n",
    "    return temp_range\n",
    "temperatures = calc_temps()\n",
    "temperatures"
   ]
  },
  {
   "cell_type": "code",
   "execution_count": 112,
   "metadata": {},
   "outputs": [
    {
     "data": {
      "image/png": "[encoded data removed]",
      "text/plain": [
       "<matplotlib.figure.Figure at 0x2baf1e604e0>"
      ]
     },
     "metadata": {},
     "output_type": "display_data"
    }
   ],
   "source": [
    "labels = ['T_Max','T_Min','T_Avg']\n",
    "df_bar = pd.DataFrame.from_records(temperatures, columns=labels)\n",
    "yerr = df_bar[['T_Max']].values-df_bar[['T_Min']].values\n",
    "temp_chart = df_bar[['T_Avg']].plot(kind='bar', title =\"Temperatures in Hawaii\", figsize=(5, 7),\\\n",
    "                                    legend=True, fontsize=12, grid=True, color='orange',yerr = yerr)\n",
    "# plt.plot(1,df_bar[['T_Avg']],yerr = yerr)\n",
    "temp_chart.set_xlabel(\"Temprature Avg\", fontsize=12)\n",
    "temp_chart.set_ylabel(\"Temperatures in Farenheit\", fontsize=12)\n",
    "plt.show()\n"
   ]
  },
  {
   "cell_type": "code",
   "execution_count": 84,
   "metadata": {},
   "outputs": [],
   "source": [
    "from flask import Flask, jsonify\n"
   ]
  },
  {
   "cell_type": "code",
   "execution_count": 95,
   "metadata": {},
   "outputs": [
    {
     "name": "stdout",
     "output_type": "stream",
     "text": [
      "Enter a value for date in the form YYYY-MM-DD: 2016-08-01\n"
     ]
    },
    {
     "data": {
      "text/plain": [
       "{'T_AVG': 74.803541315345697, 'T_MAX': 87.0, 'T_MIN': 58.0}"
      ]
     },
     "execution_count": 95,
     "metadata": {},
     "output_type": "execute_result"
    }
   ],
   "source": [
    "start = input(\"Enter a value for date in the form YYYY-MM-DD: \")\n",
    "start_array = session_HM.query(func.max(HM.tobs),func.min(HM.tobs),func.avg(HM.tobs))\\\n",
    "                .filter(HM.date >= start).all()\n",
    "start_list = list(np.ravel(start_array))\n",
    "\n"
   ]
  },
  {
   "cell_type": "code",
   "execution_count": 99,
   "metadata": {},
   "outputs": [
    {
     "name": "stderr",
     "output_type": "stream",
     "text": [
      " * Running on http://127.0.0.1:5000/ (Press CTRL+C to quit)\n",
      "127.0.0.1 - - [17/Apr/2018 20:59:39] \"GET / HTTP/1.1\" 200 -\n"
     ]
    },
    {
     "name": "stdout",
     "output_type": "stream",
     "text": [
      "Enter a value for date in the form YYYY-MM-DD: s\n"
     ]
    },
    {
     "name": "stderr",
     "output_type": "stream",
     "text": [
      "127.0.0.1 - - [17/Apr/2018 20:59:58] \"GET /api/v1.0/start HTTP/1.1\" 200 -\n"
     ]
    }
   ],
   "source": [
    "app = Flask(__name__)\n",
    "\n",
    "@app.route(\"/\")\n",
    "def welcome():\n",
    "    \"\"\"List all available api routes.\"\"\"\n",
    "    return (\n",
    "        \"/api/v1.0/precipitation<br/>\"\n",
    "        \"/api/v1.0/stations<br/>\"\n",
    "        \"/api/v1.0/tobs<br/>\"\n",
    "        \"/api/v1.0/start<br/> \"\n",
    "        \"/api/v1.0/<start> \" + \"and \" + \"/api/v1.0/<start>/<end><br/>\"\n",
    "    )\n",
    "\n",
    "\n",
    "@app.route(\"/api/v1.0/precipitation\")\n",
    "def prcp():\n",
    "    prcp_array = session_HM.query(HM.date,HM.prcp)\\\n",
    "                .filter(HM.date >= '2016-01-01' ).filter(HM.date <= '2017-01-01').all()\n",
    "    prcp_list = list(np.ravel(prcp_array))\n",
    "    \n",
    "    for i in range(len(prcp_list)):\n",
    "        if i%2 ==0:\n",
    "            prcp_list[i] = prcp_list[i].strftime('%Y-%m-%d')\n",
    "    \n",
    "    keys = []\n",
    "    values = []\n",
    "    \n",
    "    for i in range(len(prcp_list)):\n",
    "        if i%2 == 0:\n",
    "            keys.append(prcp_list[i])\n",
    "        else:\n",
    "            values.append(prcp_list[i])\n",
    "    prcp_dict = dict(zip(keys,values))\n",
    "    \n",
    "    return jsonify(prcp_dict)\n",
    "\n",
    "\n",
    "@app.route(\"/api/v1.0/stations\")\n",
    "def stations():\n",
    "    stations_array = session_HM.query(HM.station).all()\n",
    "    stations_list = list(np.ravel(stations_array))\n",
    "\n",
    "    return jsonify(stations_list)\n",
    "\n",
    "@app.route(\"/api/v1.0/tobs\")\n",
    "def tobs():\n",
    "    tobs_array = session_HM.query(HM.tobs)\\\n",
    "                .filter(HM.date >= '2016-01-01' ).filter(HM.date <= '2017-01-01').all()\n",
    "    tobs_list = list(np.ravel(tobs_array))\n",
    "\n",
    "    return jsonify(tobs_list)\n",
    "\n",
    "\n",
    "@app.route(\"/api/v1.0/start\")\n",
    "def dates():\n",
    "    start = input(\"Enter a value for date in the form YYYY-MM-DD: \")\n",
    "    start_array = session_HM.query(func.max(HM.tobs),func.min(HM.tobs),func.avg(HM.tobs))\\\n",
    "                .filter(HM.date >= start).all()\n",
    "    start_list = list(np.ravel(start_array))\n",
    "    T_info = {\"T_MAX\":start_list[0],\"T_MIN\":start_list[1],\"T_AVG\":start_list[2]}\n",
    "\n",
    "    return jsonify(T_info)\n",
    "\n",
    "\n",
    "@app.route(\"/api/v1.0/start/end\")\n",
    "def dates_end():\n",
    "    start = input(\"Enter a value for start date in the form YYYY-MM-DD: \")\n",
    "    end = input(\"Enter a value for end date in the form YYYY-MM-DD: \")\n",
    "    start_end_array = session_HM.query(func.max(HM.tobs),func.min(HM.tobs),func.avg(HM.tobs))\\\n",
    "                .filter(HM.date >= start).filter(HM.date <= end).all()\n",
    "    start_end_list = list(np.ravel(start_end_array))\n",
    "    T_info_end = {\"T_MAX\":start_end_list[0],\"T_MIN\":start_end_list[1],\"T_AVG\":start_end_list[2]}\n",
    "    \n",
    "    return jsonify(T_info_end)\n",
    "\n",
    "\n",
    "if __name__ == \"__main__\":\n",
    "    app.run()\n"
   ]
  }
 ],
 "metadata": {
  "kernelspec": {
   "display_name": "Python 3",
   "language": "python",
   "name": "python3"
  },
  "language_info": {
   "codemirror_mode": {
    "name": "ipython",
    "version": 3
   },
   "file_extension": ".py",
   "mimetype": "text/x-python",
   "name": "python",
   "nbconvert_exporter": "python",
   "pygments_lexer": "ipython3",
   "version": "3.6.3"
  }
 },
 "nbformat": 4,
 "nbformat_minor": 2
}
