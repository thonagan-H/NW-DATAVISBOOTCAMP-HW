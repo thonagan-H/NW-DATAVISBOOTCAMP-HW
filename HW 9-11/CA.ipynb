{
 "cells": [
  {
   "cell_type": "code",
   "execution_count": 1,
   "metadata": {
    "collapsed": true
   },
   "outputs": [],
   "source": [
    "# Python SQL toolkit and Object Relational Mapper\n",
    "import sqlalchemy\n",
    "from sqlalchemy import create_engine, MetaData, inspect\n",
    "from sqlalchemy.ext.declarative import declarative_base\n",
    "from sqlalchemy import Column, Integer, String, Numeric, Text, Float, Date\n",
    "from sqlalchemy.ext.automap import automap_base as automap_base_HM\n",
    "from sqlalchemy.ext.automap import automap_base as automap_base_HS\n",
    "from sqlalchemy.orm import Session\n",
    "import pandas as pd\n",
    "import matplotlib.pyplot as plt\n",
    "import seaborn as sns\n",
    "import numpy as np\n"
   ]
  },
  {
   "cell_type": "code",
   "execution_count": 2,
   "metadata": {
    "collapsed": true
   },
   "outputs": [],
   "source": [
    "# Create an engine to database \n",
    "engine_HM = create_engine(\"sqlite:///cleaned_Hawaii_Measurements.sqlite\")\n",
    "engine_HS = create_engine(\"sqlite:///cleaned_Hawaii_Stations.sqlite\")"
   ]
  },
  {
   "cell_type": "code",
   "execution_count": 3,
   "metadata": {
    "collapsed": true
   },
   "outputs": [],
   "source": [
    "conn_HM = engine_HM.connect()\n",
    "conn_HS = engine_HS.connect()"
   ]
  },
  {
   "cell_type": "code",
   "execution_count": 4,
   "metadata": {
    "collapsed": true
   },
   "outputs": [],
   "source": [
    "#Reflecting into tables:\n",
    "#Objects inheriting the automap base class\n",
    "#If only one Base object calls the prepare method for two separate engines, then a SAWarning will be produced\n",
    "#So we are instantializing two separate objects to workaround it.\n",
    "Base_HM = automap_base_HM()\n",
    "Base_HS = automap_base_HS()\n",
    "\n",
    "\n",
    "#AutomapBase.prepare() method is called on the object to asking it to reflect the schema and produce mappings\n",
    "Base_HM.prepare(engine_HM,reflect=True) \n",
    "Base_HS.prepare(engine_HS,reflect=True) \n"
   ]
  },
  {
   "cell_type": "code",
   "execution_count": 11,
   "metadata": {},
   "outputs": [],
   "source": [
    "Base_HS.classes.keys()\n",
    "HM = Base_HM.classes.Measurement\n",
    "HS = Base_HS.classes.Station"
   ]
  },
  {
   "cell_type": "code",
   "execution_count": 13,
   "metadata": {
    "collapsed": true
   },
   "outputs": [],
   "source": [
    "measurement = Base_HM.classes.keys()\n",
    "station = Base_HS.classes.keys()"
   ]
  },
  {
   "cell_type": "code",
   "execution_count": 14,
   "metadata": {
    "collapsed": true
   },
   "outputs": [],
   "source": [
    "session_HM = Session(engine_HM)\n",
    "session_HS = Session(engine_HS)"
   ]
  },
  {
   "cell_type": "code",
   "execution_count": 16,
   "metadata": {},
   "outputs": [],
   "source": [
    "engine_HM.execute('SELECT date,prcp FROM Measurement WHERE date >= \"2016-08-23\"').fetchall()"
   ]
  },
  {
   "cell_type": "code",
   "execution_count": 17,
   "metadata": {
    "scrolled": true
   },
   "outputs": [],
   "source": [
    "date_prcp = engine_HM.execute('SELECT date,prcp FROM Measurement WHERE date >= \"2016-08-23\"').fetchall()\n",
    "dates = []\n",
    "prcps = []\n",
    "for i in date_prcp:\n",
    "    dates.append(i[0])\n",
    "    prcps.append(i[1])"
   ]
  },
  {
   "cell_type": "code",
   "execution_count": 19,
   "metadata": {
    "scrolled": true
   },
   "outputs": [],
   "source": [
    "analysis_1 = pd.DataFrame({\"Dates\":dates,\"Prcp\":prcps})\n",
    "analysis_1[\"Prcp\"].fillna(value = 0)"
   ]
  },
  {
   "cell_type": "code",
   "execution_count": 20,
   "metadata": {
    "scrolled": true
   },
   "outputs": [
    {
     "data": {
      "image/png": "[encoded data removed]",
      "text/plain": [
       "<matplotlib.figure.Figure at 0x20b4d39c588>"
      ]
     },
     "metadata": {},
     "output_type": "display_data"
    }
   ],
   "source": [
    "x = analysis_1[\"Dates\"]\n",
    "y = analysis_1[\"Prcp\"]\n",
    "plt.plot(x,y)\n",
    "plt.show()"
   ]
  },
  {
   "cell_type": "code",
   "execution_count": 21,
   "metadata": {},
   "outputs": [],
   "source": [
    "# qry = session.query(HM).filter(HM.date >= '2010-01-01').all()\n",
    "# print(qry)"
   ]
  },
  {
   "cell_type": "code",
   "execution_count": 22,
   "metadata": {},
   "outputs": [],
   "source": [
    "# qrys = session.query.\\\n",
    "#     filter(HM.date <= '2010-01-01').\\\n",
    "#         filter(HM.date >= '2011-01-01').all()\n",
    "#     #group_by(Dow.stock).\\\n",
    "#     #order_by(Dow.stock).all()"
   ]
  }
 ],
 "metadata": {
  "kernelspec": {
   "display_name": "Python 3",
   "language": "python",
   "name": "python3"
  },
  "language_info": {
   "codemirror_mode": {
    "name": "ipython",
    "version": 3
   },
   "file_extension": ".py",
   "mimetype": "text/x-python",
   "name": "python",
   "nbconvert_exporter": "python",
   "pygments_lexer": "ipython3",
   "version": "3.6.3"
  }
 },
 "nbformat": 4,
 "nbformat_minor": 2
}
